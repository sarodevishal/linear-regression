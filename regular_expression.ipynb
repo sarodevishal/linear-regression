{
 "cells": [
  {
   "cell_type": "code",
   "execution_count": 2,
   "metadata": {},
   "outputs": [],
   "source": [
    "import re"
   ]
  },
  {
   "cell_type": "code",
   "execution_count": 4,
   "metadata": {},
   "outputs": [
    {
     "name": "stdout",
     "output_type": "stream",
     "text": [
      "this is the element i am looking for\n"
     ]
    }
   ],
   "source": [
    "if re.search(\"inform\",\"this is the that which in want to inform u that\" ):\n",
    "    print(\"this is the element i am looking for\")\n",
    "else:\n",
    "    print(\"the element is not there in this field\")"
   ]
  },
  {
   "cell_type": "code",
   "execution_count": 3,
   "metadata": {},
   "outputs": [
    {
     "name": "stdout",
     "output_type": "stream",
     "text": [
      "<class 'list'>\n",
      "124\n",
      "Position 1... Value..a\n",
      "Position 3... Value..a\n",
      "Position 22... Value..a\n",
      "Position 31... Value..a\n",
      "Position 38... Value..a\n",
      "Position 44... Value..a\n",
      "Position 48... Value..a\n",
      "Position 51... Value..a\n",
      "Position 61... Value..a\n",
      "Position 71... Value..a\n",
      "Position 73... Value..a\n",
      "Position 81... Value..a\n",
      "Position 84... Value..a\n",
      "Position 109... Value..a\n",
      "Position 117... Value..a\n"
     ]
    }
   ],
   "source": [
    "#to search for all\n",
    "#we use findall function to do this task\n",
    "\n",
    "a=re.findall(\"[a-z]\",\"data science is the combination of stat programing language and ml which are used in data science and are very helpful in comming year to come are they?\")\n",
    "print(type(a))\n",
    "print(len(a))\n",
    "l = 0\n",
    "for i in a:\n",
    "    if i == 'a':\n",
    "        print(\"Position {}... Value..{}\" .format(str(l), i))\n",
    "    l+=1"
   ]
  },
  {
   "cell_type": "code",
   "execution_count": 22,
   "metadata": {},
   "outputs": [
    {
     "name": "stdout",
     "output_type": "stream",
     "text": [
      "(0, 4)\n"
     ]
    }
   ],
   "source": [
    "#generating an iterator\n",
    "#we use re.finditer which gives the starting and ending letter of an element in a string\n",
    "\n",
    "import re\n",
    "a=\"this was the day where i was waiting for long time wat to do about the day\"\n",
    "for i in re.finditer(\"this\",a):\n",
    "    l=i.span()\n",
    "    print(l)\n"
   ]
  },
  {
   "cell_type": "code",
   "execution_count": 31,
   "metadata": {},
   "outputs": [
    {
     "name": "stdout",
     "output_type": "stream",
     "text": [
      "hat\n",
      "sat\n",
      "cat\n",
      "rat\n",
      "pat\n"
     ]
    }
   ],
   "source": [
    "#match one of any of several letters\n",
    "\n",
    "import re\n",
    "str=\"hat,sat,cat,rat,pat\"\n",
    "a=re.findall(\"[hscrp]+at\",str)\n",
    "for i in a:\n",
    "    print(i)"
   ]
  },
  {
   "cell_type": "code",
   "execution_count": 34,
   "metadata": {},
   "outputs": [
    {
     "name": "stdout",
     "output_type": "stream",
     "text": [
      "hat\n",
      "cat\n",
      "mat\n"
     ]
    }
   ],
   "source": [
    "#match series of range of characters\n",
    "\n",
    "import re\n",
    "str=\"hat,cat,rat,sat,mat\"\n",
    "a=re.findall(\"[c-m]at\",str)\n",
    "for i in a:\n",
    "    print(i)"
   ]
  },
  {
   "cell_type": "code",
   "execution_count": 37,
   "metadata": {},
   "outputs": [
    {
     "name": "stdout",
     "output_type": "stream",
     "text": [
      "sat\n",
      "mat\n",
      "cat\n",
      "rat\n"
     ]
    }
   ],
   "source": [
    "# everything is printed except the given elements in the str\n",
    "import re\n",
    "str=\"sat,mat,cat,rat,fat,hat\"\n",
    "a=re.findall(\"[^f-h]at\",str)\n",
    "for i in a:\n",
    "    print(i)"
   ]
  },
  {
   "cell_type": "code",
   "execution_count": 58,
   "metadata": {},
   "outputs": [
    {
     "name": "stdout",
     "output_type": "stream",
     "text": [
      "cat ,hat,mat,sat,fat\n"
     ]
    }
   ],
   "source": [
    "#replace the string\n",
    "import re\n",
    "str=\"cat ,hat,mat,pat,fat\"\n",
    "r=re.compile(\"[p]at\")\n",
    "sat=r.sub(\"str\",sat)\n",
    "print(sat)"
   ]
  },
  {
   "cell_type": "code",
   "execution_count": 60,
   "metadata": {},
   "outputs": [
    {
     "name": "stdout",
     "output_type": "stream",
     "text": [
      "enter the \\dragon\n"
     ]
    }
   ],
   "source": [
    "#solving the backslash problem\n",
    "import re\n",
    "randstr=\"enter the \\\\dragon\"\n",
    "print(randstr)"
   ]
  },
  {
   "cell_type": "code",
   "execution_count": 73,
   "metadata": {},
   "outputs": [
    {
     "name": "stdout",
     "output_type": "stream",
     "text": [
      "<_sre.SRE_Match object; span=(9, 16), match='\\\\dragon'>\n"
     ]
    }
   ],
   "source": [
    "import re \n",
    "ra=\"hera the \\\\dragon\"\n",
    "print(re.search(r\"\\\\dragon\",ra))\n"
   ]
  },
  {
   "cell_type": "code",
   "execution_count": 85,
   "metadata": {},
   "outputs": [
    {
     "name": "stdout",
     "output_type": "stream",
     "text": [
      "R has a built-in package \n",
      "named \"RMySQL\" which provides \n",
      "native connectivity \n",
      "between with MySql database. \n",
      "\n",
      "R has a built-in package    named \"RMySQL\" which provides    native connectivity    between with MySql database.    \n"
     ]
    }
   ],
   "source": [
    "#giving spaces\n",
    "import re\n",
    "rand='''R has a built-in package \n",
    "named \"RMySQL\" which provides \n",
    "native connectivity \n",
    "between with MySql database. \n",
    "'''\n",
    "print(rand)\n",
    "\n",
    "reg=re.compile(\"\\n\")\n",
    "rand=reg.sub(\"   \",rand)\n",
    "print(rand)"
   ]
  },
  {
   "cell_type": "code",
   "execution_count": 87,
   "metadata": {},
   "outputs": [
    {
     "name": "stdout",
     "output_type": "stream",
     "text": [
      "Matches 9\n"
     ]
    }
   ],
   "source": [
    "#matching a single character\n",
    "import re\n",
    "str=\"123455678\"\n",
    "print(\"Matches\",len(re.findall(\"\\d\",str)))"
   ]
  },
  {
   "cell_type": "code",
   "execution_count": 89,
   "metadata": {},
   "outputs": [
    {
     "name": "stdout",
     "output_type": "stream",
     "text": [
      "matches 0\n"
     ]
    }
   ],
   "source": [
    "print(\"matches\",len(re.findall(\"\\D\",str)))"
   ]
  },
  {
   "cell_type": "code",
   "execution_count": 93,
   "metadata": {},
   "outputs": [
    {
     "name": "stdout",
     "output_type": "stream",
     "text": [
      "matches: 5\n"
     ]
    }
   ],
   "source": [
    "import re\n",
    "str11=\"12345,1234,6785676,23546574\"\n",
    "print(\"matches:\",len(re.findall(\"\\d{3,5}\",str11)))"
   ]
  },
  {
   "cell_type": "code",
   "execution_count": 102,
   "metadata": {},
   "outputs": [
    {
     "name": "stdout",
     "output_type": "stream",
     "text": [
      "a valid phone no\n"
     ]
    }
   ],
   "source": [
    "#whether it is a valid phone number or not\n",
    "import re\n",
    "str=\"123-745-4571\"\n",
    "if re.search(\"\\w{3}-\\w{3}-\\w{4}\",str):\n",
    "    print(\"a valid phone no\")\n",
    "else:\n",
    "    print(\"not a valid phone no\",)"
   ]
  },
  {
   "cell_type": "code",
   "execution_count": 107,
   "metadata": {},
   "outputs": [
    {
     "name": "stdout",
     "output_type": "stream",
     "text": [
      "it is valid\n"
     ]
    }
   ],
   "source": [
    "import re\n",
    "str=\"123-456-4567\"\n",
    "if re.search(\"\\d{3}-\\d{3}-\\d{4}\",str):\n",
    "    print(\"it is valid\")\n",
    "else:\n",
    "    print(\"not valid\")\n"
   ]
  },
  {
   "cell_type": "code",
   "execution_count": 122,
   "metadata": {},
   "outputs": [
    {
     "name": "stdout",
     "output_type": "stream",
     "text": [
      "not valid\n"
     ]
    }
   ],
   "source": [
    "import re\n",
    "if re.search(\"\\w{2,20}\\s\\w{2,20}\",\"sdebde\"):\n",
    "    print(\"valid name\")\n",
    "else:\n",
    "    print(\"not valid\")\n"
   ]
  },
  {
   "cell_type": "code",
   "execution_count": null,
   "metadata": {},
   "outputs": [],
   "source": []
  }
 ],
 "metadata": {
  "kernelspec": {
   "display_name": "Python 3",
   "language": "python",
   "name": "python3"
  },
  "language_info": {
   "codemirror_mode": {
    "name": "ipython",
    "version": 3
   },
   "file_extension": ".py",
   "mimetype": "text/x-python",
   "name": "python",
   "nbconvert_exporter": "python",
   "pygments_lexer": "ipython3",
   "version": "3.6.7"
  }
 },
 "nbformat": 4,
 "nbformat_minor": 2
}
